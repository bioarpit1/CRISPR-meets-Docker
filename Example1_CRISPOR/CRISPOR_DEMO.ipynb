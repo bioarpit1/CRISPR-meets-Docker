{
 "cells": [
  {
   "cell_type": "markdown",
   "metadata": {},
   "source": [
    "# CRISPOR Demo"
   ]
  },
  {
   "cell_type": "markdown",
   "metadata": {
    "collapsed": false
   },
   "source": [
    "In this example we run CRISPOR to design guides for the IDH2 gene in Yeast (saccharomyces cerevisiae).\n",
    "\n",
    "We will first download the genome sequence using the crisprAddGenome utility and providing the taxonomy id\n",
    "\n",
    "Then we will run CRISPOR on the fasta containing the sequence of the IDH2 gene\n",
    "\n",
    "In this case we want to explore off-targets with up tp 5 mismatches (--mm=5)\n"
   ]
  },
  {
   "cell_type": "markdown",
   "metadata": {},
   "source": [
    "### Go to the folder with the demo for CRISPResso: CRISPR_Workshop/Example1_CRISPOR"
   ]
  },
  {
   "cell_type": "code",
   "execution_count": 1,
   "metadata": {
    "collapsed": false
   },
   "outputs": [
    {
     "name": "stdout",
     "output_type": "stream",
     "text": []
    }
   ],
   "source": [
    "cd /Users/luca/Downloads/CRISPR_Workshop/Example1_CRISPOR"
   ]
  },
  {
   "cell_type": "code",
   "execution_count": 2,
   "metadata": {
    "collapsed": false
   },
   "outputs": [
    {
     "name": "stdout",
     "output_type": "stream",
     "text": [
      "CRISPOR_DEMO.html\tCRISPOR_DEMO.ipynb\tIDH2_s288c.fasta\r\n"
     ]
    }
   ],
   "source": [
    "ls\n",
    "#You should see those files"
   ]
  },
  {
   "cell_type": "markdown",
   "metadata": {
    "collapsed": false
   },
   "source": [
    "### Let's download a genome using its tax id"
   ]
  },
  {
   "cell_type": "markdown",
   "metadata": {},
   "source": [
    "ailuropoda_melanoleuca\t9646 <br />\n",
    "anas_platyrhynchos\t8839 <br />\n",
    "anolis_carolinensis\t28377 <br />\n",
    "astyanax_mexicanus\t7994 <br />\n",
    "bos_taurus\t9913 <br />\n",
    "caenorhabditis_elegans\t6239 <br />\n",
    "callithrix_jacchus\t9483 <br />\n",
    "canis_familiaris\t9615 <br />\n",
    "cavia_porcellus\t10141 <br />\n",
    "chlorocebus_sabaeus\t60711 <br />\n",
    "choloepus_hoffmanni\t9358 <br />\n",
    "ciona_intestinalis\t7719 <br />\n",
    "ciona_savignyi\t51511 <br />\n",
    "danio_rerio\t7955 <br />\n",
    "dasypus_novemcinctus\t9361 <br />\n",
    "dipodomys_ordii\t10020 <br />\n",
    "drosophila_melanogaster\t7227 <br />\n",
    "echinops_telfairi\t9371 <br />\n",
    "equus_caballus\t9796 <br />\n",
    "erinaceus_europaeus\t9365 <br />\n",
    "felis_catus\t9685 <br />\n",
    "ficedula_albicollis\t59894 <br />\n",
    "gadus_morhua\t8049 <br />\n",
    "gallus_gallus\t9031 <br />\n",
    "gasterosteus_aculeatus\t69293 <br />\n",
    "gorilla_gorilla\t9595 <br />\n",
    "homo_sapiens\t9606 <br />\n",
    "ictidomys_tridecemlineatus\t43179 <br />\n",
    "latimeria_chalumnae\t7897 <br />\n",
    "lepisosteus_oculatus\t7918 <br />\n",
    "loxodonta_africana\t9785 <br />\n",
    "macaca_mulatta\t9544 <br />\n",
    "macropus_eugenii\t9315 <br />\n",
    "meleagris_gallopavo\t9103 <br />\n",
    "microcebus_murinus\t30608 <br />\n",
    "monodelphis_domestica\t13616 <br />\n",
    "mus_musculus\t10090 <br />\n",
    "mustela_putorius_furo\t9669 <br />\n",
    "myotis_lucifugus\t59463 <br />\n",
    "nomascus_leucogenys\t61853 <br />\n",
    "ochotona_princeps\t9978 <br />\n",
    "oreochromis_niloticus\t8128 <br />\n",
    "ornithorhynchus_anatinus\t9258 <br />\n",
    "oryctolagus_cuniculus\t9986 <br />\n",
    "oryzias_latipes\t8090 <br />\n",
    "otolemur_garnettii\t30611 <br />\n",
    "ovis_aries\t9940 <br />\n",
    "pan_troglodytes\t9598 <br />\n",
    "papio_anubis\t9555 <br />\n",
    "pelodiscus_sinensis\t13735 <br />\n",
    "petromyzon_marinus\t7757 <br />\n",
    "poecilia_formosa\t48698 <br />\n",
    "pongo_abelii\t9601 <br />\n",
    "procavia_capensis\t9813 <br />\n",
    "pteropus_vampyrus\t132908 <br />\n",
    "rattus_norvegicus\t10116 <br />\n",
    "saccharomyces_cerevisiae\t4932 <br />\n",
    "sarcophilus_harrisii\t9305 <br />\n",
    "sorex_araneus\t42254 <br />\n",
    "sus_scrofa\t9823 <br />\n",
    "taeniopygia_guttata\t59729 <br />\n",
    "takifugu_rubripes\t31033 <br />\n",
    "tarsius_syrichta\t9478 <br />\n",
    "tetraodon_nigroviridis\t99883 <br />\n",
    "tupaia_belangeri\t37347 <br />\n",
    "tursiops_truncatus\t9739 <br />\n",
    "vicugna_pacos\t30538 <br />\n",
    "xenopus_tropicalis\t8364 <br />\n",
    "xiphophorus_maculatus\t8083 <br />"
   ]
  },
  {
   "cell_type": "markdown",
   "metadata": {
    "collapsed": false
   },
   "source": [
    "### Let's create a folder for our genomes"
   ]
  },
  {
   "cell_type": "code",
   "execution_count": 4,
   "metadata": {
    "collapsed": false
   },
   "outputs": [
    {
     "name": "stdout",
     "output_type": "stream",
     "text": []
    }
   ],
   "source": [
    "mkdir genomes"
   ]
  },
  {
   "cell_type": "markdown",
   "metadata": {},
   "source": [
    "### In this example we download the yeast genome with id 4932"
   ]
  },
  {
   "cell_type": "code",
   "execution_count": 5,
   "metadata": {
    "collapsed": false
   },
   "outputs": [
    {
     "name": "stdout",
     "output_type": "stream",
     "text": [
      "taxon ID: 4932\r\n",
      "\r\n",
      "Please select the assembly:\r\n",
      "\r\n",
      "1 -  sacCer1  -  Oct. 2003 (SGD/sacCer1)\r\n",
      "2 -  sacCer2  -  June 2008 (SGD/sacCer2)\r\n",
      "\r\n",
      "Type the number of the assembly and press Return:\r\n",
      "(If you just enter Return, number 2 will be used)\r\n",
      " ==== Genome: sacCer2 ==== \r\n",
      " ==== Downloading ==== \r\n",
      "--2016-09-15 20:18:42--  http://hgdownload.cse.ucsc.edu/goldenpath/sacCer2/bigZips/sacCer2.2bit\r\n",
      "Resolving hgdownload.cse.ucsc.edu (hgdownload.cse.ucsc.edu)... 128.114.119.163\r\n",
      "Connecting to hgdownload.cse.ucsc.edu (hgdownload.cse.ucsc.edu)|128.114.119.163|:80... connected.\r\n",
      "HTTP request sent, awaiting response... 200 OK\r\n",
      "Length: 3041248 (2.9M) [text/plain]\r\n",
      "Saving to: ‘/tmp2/sacCer2/sacCer2.2bit’\r\n",
      "\r\n",
      "\r",
      "/tmp2/sacCer2/sacCe   0%[                      ]       0  --.-KB/s             \r",
      "tmp2/sacCer2/sacCer   2%[                      ]  63.62K   262KB/s             \r",
      "mp2/sacCer2/sacCer2   8%[>                     ] 255.49K   519KB/s             \r",
      "p2/sacCer2/sacCer2.  20%[===>                  ] 617.45K   839KB/s             \r",
      "2/sacCer2/sacCer2.2  39%[=======>              ]   1.14M  1.17MB/s             \r",
      "/sacCer2/sacCer2.2b  61%[============>         ]   1.79M  1.53MB/s             \r",
      "sacCer2/sacCer2.2bi  95%[===================>  ]   2.76M  2.01MB/s             \r",
      "/tmp2/sacCer2/sacCe 100%[=====================>]   2.90M  2.04MB/s   in 1.4s   \r\n",
      "\r\n",
      "2016-09-15 20:18:44 (2.04 MB/s) - ‘/tmp2/sacCer2/sacCer2.2bit’ saved [3041248/3041248]\r\n",
      "\r\n",
      " ==== Converting to fasta ==== \r\n",
      " ==== Indexing fasta with BWA ==== \r\n",
      "[bwa_index] Pack FASTA... 0.10 sec\r\n",
      "[bwa_index] Construct BWT for the packed sequence...\r\n",
      "[bwa_index] 6.22 seconds elapse.\r\n",
      "[bwa_index] Update BWT... 0.08 sec\r\n",
      "[bwa_index] Pack forward-only FASTA... 0.06 sec\r\n",
      "[bwa_index] Construct SA from BWT and Occ... 2.57 sec\r\n",
      "[main] Version: 0.7.15-r1140\r\n",
      "[main] CMD: bwa index /tmp2/sacCer2/sacCer2.fa\r\n",
      "[main] Real time: 9.393 sec; CPU: 9.040 sec\r\n",
      " ==== Deleting fasta ==== \r\n",
      " ==== Making chrom sizes ==== \r\n",
      " ==== Downloading ensembl transcripts to gene name table ==== \r\n",
      "--2016-09-15 20:19:00--  http://hgdownload.cse.ucsc.edu/goldenPath/sacCer2/database/ensemblToGeneName.txt.gz\r\n",
      "Resolving hgdownload.cse.ucsc.edu (hgdownload.cse.ucsc.edu)... 128.114.119.163\r\n",
      "Connecting to hgdownload.cse.ucsc.edu (hgdownload.cse.ucsc.edu)|128.114.119.163|:80... connected.\r\n",
      "HTTP request sent, awaiting response... 404 Not Found\r\n",
      "2016-09-15 20:19:00 ERROR 404: Not Found.\r\n",
      "\r\n",
      "\r\n",
      "gzip: stdin: unexpected end of file\r\n",
      "Could not run command wget http://hgdownload.cse.ucsc.edu/goldenPath/sacCer2/database/ensemblToGeneName.txt.gz -O - | zcat > /tmp2/sacCer2/sacCer2.ensemblToGeneName.txt\r\n"
     ]
    }
   ],
   "source": [
    "docker run  -v ${PWD}:/DATA  -v ${PWD}/genomes:/tmp2 -w /DATA -it lucapinello/crispor /bin/bash -c \"echo -ne '\\n' | crisprAddGenome ucsc 4932\" "
   ]
  },
  {
   "cell_type": "markdown",
   "metadata": {},
   "source": [
    "### Finally run CRISPOR on your fasta file"
   ]
  },
  {
   "cell_type": "code",
   "execution_count": 6,
   "metadata": {
    "collapsed": false
   },
   "outputs": [
    {
     "name": "stdout",
     "output_type": "stream",
     "text": [
      "/opt/conda/lib/python2.7/site-packages/matplotlib/font_manager.py:273: UserWarning: Matplotlib is building the font cache using fc-list. This may take a moment.\r\n",
      "  warnings.warn('Matplotlib is building the font cache using fc-list. This may take a moment.')\r\n",
      "DEBUG:root:Created directory /tmp/crisporAT4zWJ\r\n",
      "INFO:root:running on sequence ID 'gi|296148132|ref|NM_001183555.1| Saccharomyces cerevisiae S288c isocitrate dehydrogenase (NAD(+)) IDH2 (IDH2), mRNA'\r\n",
      "DEBUG:root:seq: >tmp\r\n",
      "ATGTTGAGAAATACTTTTTTTAGAAACACCTCGAGGAGGTTTTTGGCTACTGTAAAGCAACCTTCAATCGGAAGATATACCGGCAAACCTAACCCTTCTACCGGCAAATACACGGTCTCGTTCATTGAAGGTGATGGTATCGGACCTGAAATTTCCAAGTCTGTAAAGAAAATCTTTAGTGCAGCAAACGTCCCCATAGAATGGGAATCTTGTGATGTTAGCCCTATCTTTGTCAACGGATTAACGACCATTCCTGACCCTGCCGTACAATCTATCACAAAAAACCTGGTTGCACTAAAAGGTCCACTAGCTACACCTATTGGTAAAGGTCACAGATCTTTGAATTTGACATTGAGAAAAACATTTGGGTTATTTGCCAACGTTCGTCCCGCAAAGTCTATTGAAGGTTTTAAGACCACTTACGAAAACGTTGATTTAGTTCTTATCAGAGAGAATACCGAAGGTGAATATTCTGGTATCGAACACATAGTTTGCCCTGGCGTTGTTCAATCTATTAAACTGATCACAAGAGATGCCTCTGAGCGAGTCATTAGATACGCTTTTGAATATGCAAGAGCCATCGGCAGACCAAGAGTTATTGTGGTACATAAATCTACTATCCAGAGATTAGCTGATGGTTTATTCGTTAATGTTGCCAAAGAACTATCCAAAGAGTATCCTGACCTTACTTTAGAAACTGAACTTATTGATAACAGTGTGTTAAAGGTGGTCACCAACCCATCTGCTTACACAGACGCTGTTTCTGTTTGTCCAAATCTATACGGTGATATCTTGTCCGACTTGAACTCTGGTTTGAGCGCCGGTTCTTTAGGTTTAACTCCATCTGCCAATATTGGTCATAAAATCTCGATCTTTGAAGCTGTCCATGGCTCTGCCCCTGATATTGCCGGTCAAGATAAAGCGAATCCAACTGCCCTACTTTTATCTTCAGTAATGATGTTAAACCACATGGGTCTAACGAATCATGCTGACCAAATTCAAAATGCAGTATTGTCTACTATCGCATCAGGTCCAGAAAACAGAACAGGTGACTTGGCTGGTACTGCTACTACTTCATCATTCACTGAAGCAGTCATCAAGAGATTATAA\r\n",
      "DEBUG:root:Running set -o pipefail; /crisporWebsite/bin/Linux/bwa bwasw -T 20 /tmp2/sacCer2/sacCer2.fa /tmp/crisporBestMatchSaLrmw.fa > /tmp/crisporBestMatchLt6_4G.sam\r\n",
      "[bsw2_aln] read 1 sequences/pairs (1110 bp) ...\r\n",
      "[main] Version: 0.7.9a-r786\r\n",
      "[main] CMD: /crisporWebsite/bin/Linux/bwa bwasw -T 20 /tmp2/sacCer2/sacCer2.fa /tmp/crisporBestMatchSaLrmw.fa\r\n",
      "[main] Real time: 0.187 sec; CPU: 0.080 sec\r\n",
      "DEBUG:root:tmp\t0\tchrXV\t580251\t250\t1110M\t*\t0\t0\tATGTTGAGAAATACTTTTTTTAGAAACACCTCGAGGAGGTTTTTGGCTACTGTAAAGCAACCTTCAATCGGAAGATATACCGGCAAACCTAACCCTTCTACCGGCAAATACACGGTCTCGTTCATTGAAGGTGATGGTATCGGACCTGAAATTTCCAAGTCTGTAAAGAAAATCTTTAGTGCAGCAAACGTCCCCATAGAATGGGAATCTTGTGATGTTAGCCCTATCTTTGTCAACGGATTAACGACCATTCCTGACCCTGCCGTACAATCTATCACAAAAAACCTGGTTGCACTAAAAGGTCCACTAGCTACACCTATTGGTAAAGGTCACAGATCTTTGAATTTGACATTGAGAAAAACATTTGGGTTATTTGCCAACGTTCGTCCCGCAAAGTCTATTGAAGGTTTTAAGACCACTTACGAAAACGTTGATTTAGTTCTTATCAGAGAGAATACCGAAGGTGAATATTCTGGTATCGAACACATAGTTTGCCCTGGCGTTGTTCAATCTATTAAACTGATCACAAGAGATGCCTCTGAGCGAGTCATTAGATACGCTTTTGAATATGCAAGAGCCATCGGCAGACCAAGAGTTATTGTGGTACATAAATCTACTATCCAGAGATTAGCTGATGGTTTATTCGTTAATGTTGCCAAAGAACTATCCAAAGAGTATCCTGACCTTACTTTAGAAACTGAACTTATTGATAACAGTGTGTTAAAGGTGGTCACCAACCCATCTGCTTACACAGACGCTGTTTCTGTTTGTCCAAATCTATACGGTGATATCTTGTCCGACTTGAACTCTGGTTTGAGCGCCGGTTCTTTAGGTTTAACTCCATCTGCCAATATTGGTCATAAAATCTCGATCTTTGAAGCTGTCCATGGCTCTGCCCCTGATATTGCCGGTCAAGATAAAGCGAATCCAACTGCCCTACTTTTATCTTCAGTAATGATGTTAAACCACATGGGTCTAACGAATCATGCTGACCAAATTCAAAATGCAGTATTGTCTACTATCGCATCAGGTCCAGAAAACAGAACAGGTGACTTGGCTGGTACTGCTACTACTTCATCATTCACTGAAGCAGTCATCAAGAGATTATAA\t*\tAS:i:1110\tXS:i:0\tXF:i:0\tXE:i:23\tNM:i:0\r\n",
      "\r\n",
      "DEBUG:root:Found best match at chrXV:580250-581360:+\r\n",
      "DEBUG:root:Temporary output directory: /tmp/crisporAT4zWJ/JrIkZ2uMPrVkEhG59WQ5\r\n",
      "INFO:root:Progress JrIkZ2uMPrVkEhG59WQ5 - effScores - Calculating guide efficiency scores\r\n",
      "DEBUG:root:Housden scores\r\n",
      "DEBUG:root:Wang scores\r\n",
      "DEBUG:root:Doench score\r\n",
      "DEBUG:root:Fusi score\r\n",
      "DEBUG:root:SSC score\r\n",
      "DEBUG:root:CrisprScan score\r\n",
      "DEBUG:root:wuCrispr score\r\n",
      "DEBUG:root:Running wu-crisp in /crisporWebsite/bin/Linux/WU-CRISPR\r\n",
      "DEBUG:root:Running perl wu-crispr.pl -f /tmp/tmpMnKPPz > /dev/null\r\n",
      "DEBUG:root:got back 13 scores, putting in 0 for all others\r\n",
      "DEBUG:root:Chari score\r\n",
      "DEBUG:root:OOF scores\r\n",
      "INFO:root:Wrote eff scores to /tmp/crisporAT4zWJ/JrIkZ2uMPrVkEhG59WQ5.effScores.tab\r\n",
      "INFO:root:Progress JrIkZ2uMPrVkEhG59WQ5 - bwa - Alignment of potential guides, mismatches <= 5\r\n",
      "DEBUG:root:Running set -o pipefail; /crisporWebsite/bin/Linux/bwa aln -o 0 -m 1980000 -n 5 -k 5 -N -l 20 /tmp2/sacCer2/sacCer2.fa /tmp/crisporAT4zWJ/JrIkZ2uMPrVkEhG59WQ5.fa > /tmp/crisporAT4zWJ/JrIkZ2uMPrVkEhG59WQ5.sa\r\n",
      "[bwa_aln_core] calculate SA coordinate... 5.75 sec\r\n",
      "[bwa_aln_core] write to the disk... 0.00 sec\r\n",
      "[bwa_aln_core] 97 sequences have been processed.\r\n",
      "[main] Version: 0.7.9a-r786\r\n",
      "[main] CMD: /crisporWebsite/bin/Linux/bwa aln -o 0 -m 1980000 -n 5 -k 5 -N -l 20 /tmp2/sacCer2/sacCer2.fa /tmp/crisporAT4zWJ/JrIkZ2uMPrVkEhG59WQ5.fa\r\n",
      "[main] Real time: 5.791 sec; CPU: 5.750 sec\r\n",
      "INFO:root:Progress JrIkZ2uMPrVkEhG59WQ5 - saiToBed - Converting alignments\r\n",
      "DEBUG:root:Running set -o pipefail; /crisporWebsite/bin/Linux/bwa samse -n 60000 /tmp2/sacCer2/sacCer2.fa /tmp/crisporAT4zWJ/JrIkZ2uMPrVkEhG59WQ5.sa /tmp/crisporAT4zWJ/JrIkZ2uMPrVkEhG59WQ5.fa | /crisporWebsite/bin/xa2multi.pl | /crisporWebsite/bin/samToBed NGG | sort -k1,1 -k2,2n | /crisporWebsite/bin/Linux/bedClip stdin /tmp2/sacCer2/sacCer2.sizes stdout >> /tmp/crisporAT4zWJ/JrIkZ2uMPrVkEhG59WQ5.matches.bed \r\n",
      "[bwa_aln_core] convert to sequence coordinate... 0.06 sec\r\n",
      "[bwa_aln_core] refine gapped alignments... 0.00 sec\r\n",
      "[bwa_aln_core] print alignments... 0.01 sec\r\n",
      "[bwa_aln_core] 97 sequences have been processed.\r\n",
      "[main] Version: 0.7.9a-r786\r\n",
      "[main] CMD: /crisporWebsite/bin/Linux/bwa samse -n 60000 /tmp2/sacCer2/sacCer2.fa /tmp/crisporAT4zWJ/JrIkZ2uMPrVkEhG59WQ5.sa /tmp/crisporAT4zWJ/JrIkZ2uMPrVkEhG59WQ5.fa\r\n",
      "[main] Real time: 0.201 sec; CPU: 0.070 sec\r\n",
      "INFO:root:Progress JrIkZ2uMPrVkEhG59WQ5 - filter - Removing matches without a PAM motif\r\n",
      "DEBUG:root:Running set -o pipefail; /crisporWebsite/bin/twoBitToFaPython /tmp2/sacCer2/sacCer2.2bit /tmp/crisporAT4zWJ/JrIkZ2uMPrVkEhG59WQ5.matches.bed | /crisporWebsite/bin/filterFaToBed /tmp/crisporAT4zWJ/JrIkZ2uMPrVkEhG59WQ5.fa NGG NAG,NGA 1.0 60000 > /tmp/crisporAT4zWJ/JrIkZ2uMPrVkEhG59WQ5.filtMatches.bed\r\n",
      "INFO:root:Progress JrIkZ2uMPrVkEhG59WQ5 - chromPos - Annotating matches with chromosome position\r\n",
      "INFO:root:Progress JrIkZ2uMPrVkEhG59WQ5 - done - Job completed\r\n",
      "DEBUG:root:reading /tmp/crisporAT4zWJ/JrIkZ2uMPrVkEhG59WQ5.bed\r\n",
      "INFO:root:guide info written to idh2_s288c.guides\r\n",
      "INFO:root:off-target info written to idh2_s288c.offtargets\r\n",
      "DEBUG:root:Removing tmpDirs: \r\n",
      "ATGTTGAGAAATACTTTTTTTAGAAACACCTCGAGGAGGTTTTTGGCTACTGTAAAGCAACCTTCAATCGGAAGATATACCGGCAAACCTAACCCTTCTACCGGCAAATACACGGTCTCGTTCATTGAAGGTGATGGTATCGGACCTGAAATTTCCAAGTCTGTAAAGAAAATCTTTAGTGCAGCAAACGTCCCCATAGAATGGGAATCTTGTGATGTTAGCCCTATCTTTGTCAACGGATTAACGACCATTCCTGACCCTGCCGTACAATCTATCACAAAAAACCTGGTTGCACTAAAAGGTCCACTAGCTACACCTATTGGTAAAGGTCACAGATCTTTGAATTTGACATTGAGAAAAACATTTGGGTTATTTGCCAACGTTCGTCCCGCAAAGTCTATTGAAGGTTTTAAGACCACTTACGAAAACGTTGATTTAGTTCTTATCAGAGAGAATACCGAAGGTGAATATTCTGGTATCGAACACATAGTTTGCCCTGGCGTTGTTCAATCTATTAAACTGATCACAAGAGATGCCTCTGAGCGAGTCATTAGATACGCTTTTGAATATGCAAGAGCCATCGGCAGACCAAGAGTTATTGTGGTACATAAATCTACTATCCAGAGATTAGCTGATGGTTTATTCGTTAATGTTGCCAAAGAACTATCCAAAGAGTATCCTGACCTTACTTTAGAAACTGAACTTATTGATAACAGTGTGTTAAAGGTGGTCACCAACCCATCTGCTTACACAGACGCTGTTTCTGTTTGTCCAAATCTATACGGTGATATCTTGTCCGACTTGAACTCTGGTTTGAGCGCCGGTTCTTTAGGTTTAACTCCATCTGCCAATATTGGTCATAAAATCTCGATCTTTGAAGCTGTCCATGGCTCTGCCCCTGATATTGCCGGTCAAGATAAAGCGAATCCAACTGCCCTACTTTTATCTTCAGTAATGATGTTAAACCACATGGGTCTAACGAATCATGCTGACCAAATTCAAAATGCAGTATTGTCTACTATCGCATCAGGTCCAGAAAACAGAACAGGTGACTTGGCTGGTACTGCTACTACTTCATCATTCACTGAAGCAGTCATCAAGAGATTATAA TGCATGACATTATTGGATACACTTTTTCTGAACCTGAATTACCTTGGTAGATAATAAGATACAGATCGGGAACGAACAACAATTATAATATTTTTTAATAATGTTGAGAAATACTTTTTTTAGAAACACCTCGAGGAGGTTTTTGGCTACTGTAAAGCAACCTTCAATCGGAAGATATACCGGCAAACCTAACCCTTCTACCGGCAAATACACGGTCTCGTTCATTGAAGGTGATGGTATCGGACCTGAAATTTCCAAGTCTGTAAAGAAAATCTTTAGTGCAGCAAACGTCCCCATAGAATGGGAATCTTGTGATGTTAGCCCTATCTTTGTCAACGGATTAACGACCATTCCTGACCCTGCCGTACAATCTATCACAAAAAACCTGGTTGCACTAAAAGGTCCACTAGCTACACCTATTGGTAAAGGTCACAGATCTTTGAATTTGACATTGAGAAAAACATTTGGGTTATTTGCCAACGTTCGTCCCGCAAAGTCTATTGAAGGTTTTAAGACCACTTACGAAAACGTTGATTTAGTTCTTATCAGAGAGAATACCGAAGGTGAATATTCTGGTATCGAACACATAGTTTGCCCTGGCGTTGTTCAATCTATTAAACTGATCACAAGAGATGCCTCTGAGCGAGTCATTAGATACGCTTTTGAATATGCAAGAGCCATCGGCAGACCAAGAGTTATTGTGGTACATAAATCTACTATCCAGAGATTAGCTGATGGTTTATTCGTTAATGTTGCCAAAGAACTATCCAAAGAGTATCCTGACCTTACTTTAGAAACTGAACTTATTGATAACAGTGTGTTAAAGGTGGTCACCAACCCATCTGCTTACACAGACGCTGTTTCTGTTTGTCCAAATCTATACGGTGATATCTTGTCCGACTTGAACTCTGGTTTGAGCGCCGGTTCTTTAGGTTTAACTCCATCTGCCAATATTGGTCATAAAATCTCGATCTTTGAAGCTGTCCATGGCTCTGCCCCTGATATTGCCGGTCAAGATAAAGCGAATCCAACTGCCCTACTTTTATCTTCAGTAATGATGTTAAACCACATGGGTCTAACGAATCATGCTGACCAAATTCAAAATGCAGTATTGTCTACTATCGCATCAGGTCCAGAAAACAGAACAGGTGACTTGGCTGGTACTGCTACTACTTCATCATTCACTGAAGCAGTCATCAAGAGATTATAAAAGTCCTATTCTTTTCCCTCTCAGGTTTTTTCACGCCTTGAAAACAAATGACTATCCGTTTAATATAATGATTTCTGAAAGATTATGAAGTAAAAAAAAG NGG\r\n",
      "Running wu-crisp in /crisporWebsite/bin/Linux/WU-CRISPR\r\n",
      "Running perl wu-crispr.pl -f /tmp/tmpMnKPPz > /dev/null\r\n"
     ]
    }
   ],
   "source": [
    "docker run -v ${PWD}:/DATA  -v ${PWD}/genomes:/tmp2 -w /DATA  -i lucapinello/crispor \\\n",
    "crispor.py sacCer2 idh2_s288c.fasta idh2_s288c.guides -o idh2_s288c.offtargets --mm=5 -g /tmp2\n",
    "\n"
   ]
  },
  {
   "cell_type": "markdown",
   "metadata": {},
   "source": [
    "### If everything is fine you should see the guide and the offtarget files:  idh2_s288c.guides and idh2_s288c.offtargets"
   ]
  },
  {
   "cell_type": "code",
   "execution_count": 7,
   "metadata": {
    "collapsed": false
   },
   "outputs": [
    {
     "name": "stdout",
     "output_type": "stream",
     "text": [
      "CRISPOR_DEMO.html\tIDH2_s288c.fasta\tidh2_s288c.guides\r\n",
      "CRISPOR_DEMO.ipynb\tgenomes\t\t\tidh2_s288c.offtargets\r\n"
     ]
    }
   ],
   "source": [
    "ls "
   ]
  },
  {
   "cell_type": "code",
   "execution_count": 8,
   "metadata": {
    "collapsed": false
   },
   "outputs": [
    {
     "name": "stdout",
     "output_type": "stream",
     "text": [
      "guideId\tguideSeq\tmitSpecScore\tcfdSpecScore\tofftargetCount\tguideGenomeMatchGeneLocus\r\n",
      "34forw\tCTTTTTTTAGAAACACCTCGAGG\t100\t100\t5\tchrXV 580.26 Kbp\t73\t81\t0.368488\t81\t61\t1\t59\t4.6\r\n",
      "37forw\tTTTTTAGAAACACCTCGAGGAGG\t100\t100\t3\tchrXV 580.27 Kbp\t69\t94\t0.909611\t47\t85\t38\t58\t3.9\r\n",
      "61rev\tCCGGTATATCTTCCGATTGAAGG\t100\t100\t1\tchrXV 580.31 Kbp\t40\t18\t-0.287688\t8\t38\t50\t73\t6.4\r\n",
      "80rev\tGGTAGAAGGGTTAGGTTTGCCGG\t100\t100\t6\tchrXV 580.33 Kbp\t42\t29\t-0.693721\t5\t30\t48\t70\t6.4\r\n",
      "81forw\tCCTTCAATCGGAAGATATACCGG\t100\t100\t3\tchrXV 580.31 Kbp\t48\t29\t-0.009586\t33\t28\t33\t61\t4.3\r\n",
      "88rev\tTATTTGCCGGTAGAAGGGTTAGG\t100\t100\t2\tchrXV 580.34 Kbp\t47\t23\t-0.18808\t7\t50\t65\t59\t5.7\r\n",
      "93rev\tCCGTGTATTTGCCGGTAGAAGGG\t100\t100\t3\tchrXV 580.34 Kbp\t55\t51\t-0.141591\t38\t28\t57\t61\t4.5\r\n",
      "94rev\tACCGTGTATTTGCCGGTAGAAGG\t100\t100\t0\tchrXV 580.34 Kbp\t34\t44\t-0.284491\t1\t40\t42\t58\t3.9\r\n",
      "101rev\tGAACGAGACCGTGTATTTGCCGG\t100\t99\t7\tchrXV 580.35 Kbp\t45\t25\t0.049947\t20\t53\t28\t67\t8.9\r\n"
     ]
    }
   ],
   "source": [
    "head idh2_s288c.guides\t"
   ]
  },
  {
   "cell_type": "code",
   "execution_count": 9,
   "metadata": {
    "collapsed": false
   },
   "outputs": [
    {
     "name": "stdout",
     "output_type": "stream",
     "text": [
      "guideId\tguideSeq\tofftargetSeq\tmismatchPos\tmismatchCount\tmitOfftargetScore\tcfdOfftargetScore\tchrom\tstart\tend\tstrand\tlocusDesc\r\n",
      "34forw\tCTTTTTTTAGAAACACCTCGAGG\tCTTTCTTTAAAGACATCTCATGG\t....*....*.*...*...*\t5\t0.0297594386406\t0.19444444451\tchrXIII\t473641\t473663\t+\tchrXIII 473.64 Kbp\r\n",
      "34forw\tCTTTTTTTAGAAACACCTCGAGG\tTTTTTTTCAAAAACAGCTCAAGG\t*......*.*.....*...*\t5\t0.0635492797975\t0.134615384702\tchrVII\t789343\t789365\t+\tchrVII 789.34 Kbp\r\n",
      "34forw\tCTTTTTTTAGAAACACCTCGAGG\tCTTTTATCAAAAACAGCTCCTGG\t.....*.*.*.....*...*\t5\t0.0365944316617\t0.0533333334415\tchrIV\t484810\t484832\t+\tchrIV 484.81 Kbp\r\n",
      "34forw\tCTTTTTTTAGAAACACCTCGAGG\tCTATTTTTTGAACCACCTAGAGG\t..*.....*...*.....*.\t4\t0.116281867747\t0.0386680988803\tchrVII\t351007\t351029\t+\tchrVII 351.01 Kbp\r\n",
      "34forw\tCTTTTTTTAGAAACACCTCGAGG\tCTTATTTTAGAAGGCCATCGTGG\t...*........***.*...\t5\t0.00544788908241\t0.0\tchrII\t210353\t210375\t+\tchrII 210.35 Kbp\r\n",
      "37forw\tTTTTTAGAAACACCTCGAGGAGG\tAGTTTAGACACTCCTCGAAGGGG\t**......*..*......*.\t5\t0.0910968516456\t0.11428571404\tchrXV\t754204\t754226\t+\tchrXV 754.20 Kbp\r\n",
      "37forw\tTTTTTAGAAACACCTCGAGGAGG\tCTGTTAGACACACCTTGAGAAGG\t*.*.....*......*...*\t5\t0.0415689570216\t0.0706436420781\tchrVI\t165483\t165505\t+\tchrVI 165.48 Kbp\r\n",
      "37forw\tTTTTTAGAAACACCTCGAGGAGG\tTTCTTGGCCACTCCTCGAGGAGG\t..*..*.**..*........\t5\t0.15665091728\t0.0249895876681\tchrVI\t76719\t76741\t+\tchrVI 76.72 Kbp\r\n",
      "61rev\tCCGGTATATCTTCCGATTGAAGG\tCCTGTATATGTTACTATTCAAGG\t..*......*..*.*...*.\t5\t0.0285416685847\t0.00478927204086\tchrIV\t1376728\t1376750\t+\tchrIV 1.38 Mbp\r\n"
     ]
    }
   ],
   "source": [
    "head idh2_s288c.offtargets"
   ]
  },
  {
   "cell_type": "code",
   "execution_count": null,
   "metadata": {
    "collapsed": true
   },
   "outputs": [],
   "source": []
  }
 ],
 "metadata": {
  "kernelspec": {
   "display_name": "Bash",
   "language": "bash",
   "name": "bash"
  },
  "language_info": {
   "codemirror_mode": "shell",
   "file_extension": ".sh",
   "mimetype": "text/x-sh",
   "name": "bash"
  }
 },
 "nbformat": 4,
 "nbformat_minor": 0
}
