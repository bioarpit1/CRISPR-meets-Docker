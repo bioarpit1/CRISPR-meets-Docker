{
 "cells": [
  {
   "cell_type": "markdown",
   "metadata": {},
   "source": [
    "# MAGeCK Demo"
   ]
  },
  {
   "cell_type": "markdown",
   "metadata": {},
   "source": [
    "In this example we run 2 different basic analysis with MAGeCK\n",
    "\n",
    "(1) We run MAGECK using a precomputed conting table \n",
    "\n",
    "(2) We run MAGeCK using fastq files and create the count table from fastq files\n"
   ]
  },
  {
   "cell_type": "markdown",
   "metadata": {},
   "source": [
    "### Go to the folder with the demos for MAGeCK: CRISPR_Workshop/Example3_MAGeCK"
   ]
  },
  {
   "cell_type": "code",
   "execution_count": 1,
   "metadata": {
    "collapsed": false
   },
   "outputs": [
    {
     "name": "stdout",
     "output_type": "stream",
     "text": []
    }
   ],
   "source": [
    "cd /Users/luca/Downloads/CRISPR_Workshop/Example3_MAGeCK\n"
   ]
  },
  {
   "cell_type": "code",
   "execution_count": 2,
   "metadata": {
    "collapsed": false
   },
   "outputs": [
    {
     "name": "stdout",
     "output_type": "stream",
     "text": [
      "MAGeCK_Demo.html\tlibrary.txt\t\ttest1.fastq\r\n",
      "MAGeCK_Demo.ipynb\tsample.txt\t\ttest2.fastq\r\n"
     ]
    }
   ],
   "source": [
    "#You should see those files\n",
    "ls"
   ]
  },
  {
   "cell_type": "markdown",
   "metadata": {},
   "source": [
    "### (1) We run MAGeCK using the precomputed table in the file sample.txt containing data for two conditions at two different time points: initial and final"
   ]
  },
  {
   "cell_type": "code",
   "execution_count": 3,
   "metadata": {
    "collapsed": false
   },
   "outputs": [
    {
     "name": "stdout",
     "output_type": "stream",
     "text": [
      "sgRNA\tGene\tHL60.initial\tKBM7.initial\tHL60.final\tKBM7.final\r\n",
      "A1CF_m52595977\tA1CF\t213\t274\t883\t175\r\n",
      "A1CF_m52596017\tA1CF\t294\t412\t1554\t1891\r\n",
      "A1CF_m52596056\tA1CF\t421\t368\t566\t759\r\n",
      "A1CF_m52603842\tA1CF\t274\t243\t314\t855\r\n",
      "A1CF_m52603847\tA1CF\t0\t50\t145\t266\r\n",
      "A1CF_p52595870\tA1CF\t623\t583\t1503\t1117\r\n",
      "A1CF_p52595881\tA1CF\t486\t378\t1775\t1585\r\n",
      "A1CF_p52596023\tA1CF\t195\t429\t783\t774\r\n",
      "A1CF_p52601638\tA1CF\t744\t459\t1233\t2407\r\n"
     ]
    }
   ],
   "source": [
    "head sample.txt"
   ]
  },
  {
   "cell_type": "markdown",
   "metadata": {},
   "source": [
    "#### To run MAGECK we need to specify this sample file and the tratment (final) and control (initial) condition using the same name present in the header of the files: \n",
    "\n",
    "HL60.initial\n",
    "\n",
    "KBM7.initial\t\n",
    "\n",
    "HL60.final\t\n",
    "\n",
    "KBM7.final\n"
   ]
  },
  {
   "cell_type": "code",
   "execution_count": 4,
   "metadata": {
    "collapsed": false
   },
   "outputs": [
    {
     "name": "stdout",
     "output_type": "stream",
     "text": [
      "INFO  @ Mon, 19 Sep 2016 16:12:26: Parameters: /usr/local/bin/mageck test -k sample.txt -t HL60.final,KBM7.final -c HL60.initial,KBM7.initial -n demo \r\n",
      "INFO  @ Mon, 19 Sep 2016 16:12:26: Welcome to MAGeCK. Command: test \r\n",
      "INFO  @ Mon, 19 Sep 2016 16:12:26: Loading count table from sample.txt  \r\n",
      "INFO  @ Mon, 19 Sep 2016 16:12:26: Processing 1 lines.. \r\n",
      "INFO  @ Mon, 19 Sep 2016 16:12:26: Loaded 999 records. \r\n",
      "INFO  @ Mon, 19 Sep 2016 16:12:26: Loading R template file: /usr/local/lib/python2.7/dist-packages/mageck/plot_template.RTemplate. \r\n",
      "INFO  @ Mon, 19 Sep 2016 16:12:26: Loading R template file: /usr/local/lib/python2.7/dist-packages/mageck/plot_template_indvgene.RTemplate. \r\n",
      "INFO  @ Mon, 19 Sep 2016 16:12:26: Loading Rnw template file: /usr/local/lib/python2.7/dist-packages/mageck/plot_template.Rnw. \r\n",
      "INFO  @ Mon, 19 Sep 2016 16:12:26: Treatment samples:HL60.final,KBM7.final \r\n",
      "INFO  @ Mon, 19 Sep 2016 16:12:26: Control samples:HL60.initial,KBM7.initial \r\n",
      "INFO  @ Mon, 19 Sep 2016 16:12:26: Final size factor: 1.46987098582 1.77594748882 0.630889769381 0.572181316103 \r\n",
      "INFO  @ Mon, 19 Sep 2016 16:12:27: Running command: RRA -i demo.plow.txt -o demo.gene.low.txt -p 0.361361361361 \r\n",
      "INFO  @ Mon, 19 Sep 2016 16:12:27: Command message: \r\n",
      "INFO  @ Mon, 19 Sep 2016 16:12:27:   Reading input file... \r\n",
      "INFO  @ Mon, 19 Sep 2016 16:12:27:   Summary: 999 sgRNAs, 100 genes, 1 lists; skipped sgRNAs:0 \r\n",
      "INFO  @ Mon, 19 Sep 2016 16:12:27:   Computing lo-values for each group... \r\n",
      "INFO  @ Mon, 19 Sep 2016 16:12:27:   Computing false discovery rate... \r\n",
      "INFO  @ Mon, 19 Sep 2016 16:12:27:   Number of groups under permutation and FDR adjustment: 100 \r\n",
      "INFO  @ Mon, 19 Sep 2016 16:12:27:   Saving to output file...RRA completed. \r\n",
      "INFO  @ Mon, 19 Sep 2016 16:12:27:    \r\n",
      "INFO  @ Mon, 19 Sep 2016 16:12:27: End command message. \r\n",
      "INFO  @ Mon, 19 Sep 2016 16:12:27: Running command: RRA -i demo.phigh.txt -o demo.gene.high.txt -p 0.36036036036 \r\n",
      "INFO  @ Mon, 19 Sep 2016 16:12:27: Command message: \r\n",
      "INFO  @ Mon, 19 Sep 2016 16:12:27:   Reading input file... \r\n",
      "INFO  @ Mon, 19 Sep 2016 16:12:27:   Summary: 999 sgRNAs, 100 genes, 1 lists; skipped sgRNAs:0 \r\n",
      "INFO  @ Mon, 19 Sep 2016 16:12:27:   Computing lo-values for each group... \r\n",
      "INFO  @ Mon, 19 Sep 2016 16:12:27:   Computing false discovery rate... \r\n",
      "INFO  @ Mon, 19 Sep 2016 16:12:27:   Number of groups under permutation and FDR adjustment: 100 \r\n",
      "INFO  @ Mon, 19 Sep 2016 16:12:27:   Saving to output file...RRA completed. \r\n",
      "INFO  @ Mon, 19 Sep 2016 16:12:27:    \r\n",
      "INFO  @ Mon, 19 Sep 2016 16:12:27: End command message. \r\n",
      "INFO  @ Mon, 19 Sep 2016 16:12:27: Loading top 10 genes from demo.gene.low.txt: ACTR8,ACIN1,AHCY,ACLY,AATF,ABT1,AHCTF1,AGBL5,ACTR3,ADIRF \r\n",
      "INFO  @ Mon, 19 Sep 2016 16:12:27: Loading top 10 genes from demo.gene.high.txt: ACRC,AGAP3,AGTPBP1,ADCK3,ABCB8,ADNP,ADCK1,ADRBK1,ADCK4,ADRA1A \r\n",
      "INFO  @ Mon, 19 Sep 2016 16:12:27: Running command: rm demo.plow.txt \r\n",
      "INFO  @ Mon, 19 Sep 2016 16:12:27: Running command: rm demo.phigh.txt \r\n",
      "INFO  @ Mon, 19 Sep 2016 16:12:27: Running command: rm demo.gene.low.txt \r\n",
      "INFO  @ Mon, 19 Sep 2016 16:12:27: Running command: rm demo.gene.high.txt \r\n"
     ]
    }
   ],
   "source": [
    "docker run -v ${PWD}:/DATA -w /DATA  -i lucapinello/mageck mageck test \\\n",
    "-k sample.txt -t HL60.final,KBM7.final -c HL60.initial,KBM7.initial  -n demo\n",
    "\n",
    "#If you are using Docker on Windows you need to specify the full path instead of ${PWD}"
   ]
  },
  {
   "cell_type": "markdown",
   "metadata": {},
   "source": [
    "#### If everything is fine you should see the files for :\n",
    "\n",
    "- guide ranking: demo.sgrna_summary.txt  and \n",
    "- gene ranking: demo.gene_summary.txt"
   ]
  },
  {
   "cell_type": "code",
   "execution_count": 5,
   "metadata": {
    "collapsed": false
   },
   "outputs": [
    {
     "name": "stdout",
     "output_type": "stream",
     "text": [
      "head sample.txt demo.sgrna_summary.txt\r\n",
      "==> sample.txt <==\r\n",
      "sgRNA\tGene\tHL60.initial\tKBM7.initial\tHL60.final\tKBM7.final\r\n",
      "A1CF_m52595977\tA1CF\t213\t274\t883\t175\r\n",
      "A1CF_m52596017\tA1CF\t294\t412\t1554\t1891\r\n",
      "A1CF_m52596056\tA1CF\t421\t368\t566\t759\r\n",
      "A1CF_m52603842\tA1CF\t274\t243\t314\t855\r\n",
      "A1CF_m52603847\tA1CF\t0\t50\t145\t266\r\n",
      "A1CF_p52595870\tA1CF\t623\t583\t1503\t1117\r\n",
      "A1CF_p52595881\tA1CF\t486\t378\t1775\t1585\r\n",
      "A1CF_p52596023\tA1CF\t195\t429\t783\t774\r\n",
      "A1CF_p52601638\tA1CF\t744\t459\t1233\t2407\r\n",
      "\r\n",
      "==> demo.sgrna_summary.txt <==\r\n",
      "sgrna\tGene\tcontrol_count\ttreatment_count\tcontrol_mean\ttreat_mean\tcontrol_var\tadj_var\tscore\tp.low\tp.high\tp.twosided\tFDR\thigh_in_treatment\r\n",
      "AGTPBP1_m88307696\tAGTPBP1\t0/362.29\t437.84/382.79\t5.9199\t409.39\t1.2704e+05\t152.25\t32.699\t1\t1.173e-234\t2.3461e-234\t2.3437e-231\tTrue\r\n",
      "ADRA1A_m26722428\tADRA1A\t0/0\t68.136/184.24\t0.84761\t112.06\t0\t21.799\t23.819\t1\t1.8669e-125\t3.7337e-125\t1.865e-122\tTrue\r\n",
      "AHRR_p344008\tAHRR\t251.35/221.99\t1564.6/1502.5\t236.22\t1533.3\t431.26\t6074.9\t16.641\t1\t1.7538e-62\t3.5076e-62\t1.168e-59\tTrue\r\n",
      "AEN_m89169489\tAEN\t94.072/0\t175.39/122.45\t2.9687\t146.55\t8308.6\t76.349\t16.432\t1\t8.937e-61\t1.7874e-60\t4.4641e-58\tTrue\r\n",
      "A1CF_m52603847\tA1CF\t0/88.797\t91.479/152.2\t2.8816\t118\t7389.8\t74.107\t13.372\t1\t6.9371e-41\t1.3874e-40\t2.7721e-38\tTrue\r\n",
      "ADRBK1_m67034181\tADRBK1\t371.88/877.32\t2395.5/1564.9\t571.2\t1936.2\t1.3344e+05\t14690\t11.262\t1\t1.011e-29\t2.0219e-29\t3.3665e-27\tTrue\r\n",
      "ADNP2_m77891006\tADNP2\t0/0\t15.772/168.79\t0.84761\t51.676\t0\t21.799\t10.886\t1\t1.1687e-27\t2.3374e-27\t3.3358e-25\tTrue\r\n",
      "ACAD9_m128598565\tACAD9\t739.35/925.27\t2528/2050.7\t827.1\t2276.9\t17338\t21271\t9.9404\t1\t1.389e-23\t2.7781e-23\t3.4691e-21\tTrue\r\n",
      "ADCY1_p45614315\tADCY1\t2.9397/72.814\t210.72/187.1\t14.788\t198.56\t3507.4\t380.3\t9.4236\t1\t2.8102e-21\t5.6203e-21\t6.2385e-19\tTrue\r\n"
     ]
    }
   ],
   "source": [
    "!head demo.sgrna_summary.txt"
   ]
  },
  {
   "cell_type": "code",
   "execution_count": 6,
   "metadata": {
    "collapsed": false
   },
   "outputs": [
    {
     "name": "stdout",
     "output_type": "stream",
     "text": [
      "head sample.txt demo.sgrna_summary.txt demo.gene_summary.txt\r\n",
      "==> sample.txt <==\r\n",
      "sgRNA\tGene\tHL60.initial\tKBM7.initial\tHL60.final\tKBM7.final\r\n",
      "A1CF_m52595977\tA1CF\t213\t274\t883\t175\r\n",
      "A1CF_m52596017\tA1CF\t294\t412\t1554\t1891\r\n",
      "A1CF_m52596056\tA1CF\t421\t368\t566\t759\r\n",
      "A1CF_m52603842\tA1CF\t274\t243\t314\t855\r\n",
      "A1CF_m52603847\tA1CF\t0\t50\t145\t266\r\n",
      "A1CF_p52595870\tA1CF\t623\t583\t1503\t1117\r\n",
      "A1CF_p52595881\tA1CF\t486\t378\t1775\t1585\r\n",
      "A1CF_p52596023\tA1CF\t195\t429\t783\t774\r\n",
      "A1CF_p52601638\tA1CF\t744\t459\t1233\t2407\r\n",
      "\r\n",
      "==> demo.sgrna_summary.txt <==\r\n",
      "sgrna\tGene\tcontrol_count\ttreatment_count\tcontrol_mean\ttreat_mean\tcontrol_var\tadj_var\tscore\tp.low\tp.high\tp.twosided\tFDR\thigh_in_treatment\r\n",
      "AGTPBP1_m88307696\tAGTPBP1\t0/362.29\t437.84/382.79\t5.9199\t409.39\t1.2704e+05\t152.25\t32.699\t1\t1.173e-234\t2.3461e-234\t2.3437e-231\tTrue\r\n",
      "ADRA1A_m26722428\tADRA1A\t0/0\t68.136/184.24\t0.84761\t112.06\t0\t21.799\t23.819\t1\t1.8669e-125\t3.7337e-125\t1.865e-122\tTrue\r\n",
      "AHRR_p344008\tAHRR\t251.35/221.99\t1564.6/1502.5\t236.22\t1533.3\t431.26\t6074.9\t16.641\t1\t1.7538e-62\t3.5076e-62\t1.168e-59\tTrue\r\n",
      "AEN_m89169489\tAEN\t94.072/0\t175.39/122.45\t2.9687\t146.55\t8308.6\t76.349\t16.432\t1\t8.937e-61\t1.7874e-60\t4.4641e-58\tTrue\r\n",
      "A1CF_m52603847\tA1CF\t0/88.797\t91.479/152.2\t2.8816\t118\t7389.8\t74.107\t13.372\t1\t6.9371e-41\t1.3874e-40\t2.7721e-38\tTrue\r\n",
      "ADRBK1_m67034181\tADRBK1\t371.88/877.32\t2395.5/1564.9\t571.2\t1936.2\t1.3344e+05\t14690\t11.262\t1\t1.011e-29\t2.0219e-29\t3.3665e-27\tTrue\r\n",
      "ADNP2_m77891006\tADNP2\t0/0\t15.772/168.79\t0.84761\t51.676\t0\t21.799\t10.886\t1\t1.1687e-27\t2.3374e-27\t3.3358e-25\tTrue\r\n",
      "ACAD9_m128598565\tACAD9\t739.35/925.27\t2528/2050.7\t827.1\t2276.9\t17338\t21271\t9.9404\t1\t1.389e-23\t2.7781e-23\t3.4691e-21\tTrue\r\n",
      "ADCY1_p45614315\tADCY1\t2.9397/72.814\t210.72/187.1\t14.788\t198.56\t3507.4\t380.3\t9.4236\t1\t2.8102e-21\t5.6203e-21\t6.2385e-19\tTrue\r\n",
      "\r\n",
      "==> demo.gene_summary.txt <==\r\n",
      "id\tnum\tneg|score\tneg|p-value\tneg|fdr\tneg|rank\tneg|goodsgrna\tpos|score\tpos|p-value\tpos|fdr\tpos|rank\tpos|goodsgrna\r\n",
      "ACTR8\t10\t2.9602e-06\t4.9505e-05\t0.00495\t1\t8\t0.99013\t0.98995\t0.996386\t97\t0\r\n",
      "ACIN1\t10\t0.0001584\t0.0014356\t0.061056\t2\t9\t0.99186\t0.99203\t0.996386\t98\t0\r\n",
      "AHCY\t10\t0.00027579\t0.0018317\t0.061056\t3\t6\t0.10027\t0.2851\t0.775355\t36\t2\r\n",
      "ACLY\t10\t0.00049234\t0.0033168\t0.082921\t4\t8\t0.99618\t0.99639\t0.996386\t100\t0\r\n",
      "AATF\t10\t0.0012687\t0.0074752\t0.149505\t5\t8\t0.98428\t0.98351\t0.996386\t96\t1\r\n",
      "ABT1\t10\t0.0023964\t0.014109\t0.234088\t6\t7\t0.6298\t0.82856\t0.996386\t79\t1\r\n",
      "AHCTF1\t10\t0.0031132\t0.016386\t0.234088\t7\t6\t0.73447\t0.88688\t0.996386\t84\t2\r\n",
      "AGBL5\t10\t0.0051073\t0.027772\t0.335149\t8\t8\t0.78034\t0.90777\t0.996386\t87\t1\r\n",
      "ACTR3\t10\t0.0056008\t0.030347\t0.335149\t9\t6\t0.77513\t0.90579\t0.996386\t86\t2\r\n"
     ]
    }
   ],
   "source": [
    "!head demo.gene_summary.txt"
   ]
  },
  {
   "cell_type": "markdown",
   "metadata": {
    "collapsed": true
   },
   "source": [
    "### (2) We run MAGeCK using fastq files and create the count table"
   ]
  },
  {
   "cell_type": "markdown",
   "metadata": {
    "collapsed": true
   },
   "source": [
    "In this example, we have fastq files from two conditions, and we would like to compare which gene and sgRNA is significant between conditions."
   ]
  },
  {
   "cell_type": "markdown",
   "metadata": {},
   "source": [
    "We first create the count table, note that here we need to specify a file with the information about the library we have used. \n",
    "\n",
    "Files for common libraries are available here: \n",
    "\n",
    "https://sourceforge.net/p/mageck/wiki/libraries/\n",
    "\n",
    "If you a custom library you can format the file following the instructions here:\n",
    "https://sourceforge.net/p/mageck/wiki/input/#sgrna-library-file"
   ]
  },
  {
   "cell_type": "code",
   "execution_count": 7,
   "metadata": {
    "collapsed": false
   },
   "outputs": [
    {
     "name": "stdout",
     "output_type": "stream",
     "text": [
      "INFO  @ Mon, 19 Sep 2016 16:12:29: Parameters: /usr/local/bin/mageck count -l library.txt -n demo2 --sample-label L1,CTRL --fastq test1.fastq test2.fastq \r\n",
      "INFO  @ Mon, 19 Sep 2016 16:12:29: Welcome to MAGeCK. Command: count \r\n",
      "INFO  @ Mon, 19 Sep 2016 16:12:29: Loading 2550 predefined sgRNAs. \r\n",
      "INFO  @ Mon, 19 Sep 2016 16:12:29: Parsing file test1.fastq... \r\n",
      "INFO  @ Mon, 19 Sep 2016 16:12:29: Possible gRNA lengths:20 \r\n",
      "INFO  @ Mon, 19 Sep 2016 16:12:29: Processing 0.0M lines.. \r\n",
      "INFO  @ Mon, 19 Sep 2016 16:12:29: mapped:1453 \r\n",
      "INFO  @ Mon, 19 Sep 2016 16:12:29: Parsing file test2.fastq... \r\n",
      "INFO  @ Mon, 19 Sep 2016 16:12:29: Possible gRNA lengths:20 \r\n",
      "INFO  @ Mon, 19 Sep 2016 16:12:29: Processing 0.0M lines.. \r\n",
      "INFO  @ Mon, 19 Sep 2016 16:12:29: mapped:1471 \r\n",
      "WARNING @ Mon, 19 Sep 2016 16:12:29: Sample 0 has zero median count, so median normalization is not possible. Switch to total read count normalization. \r\n",
      "INFO  @ Mon, 19 Sep 2016 16:12:29: Final size factor: 1.00619408121 0.99388171312 \r\n",
      "INFO  @ Mon, 19 Sep 2016 16:12:29: Summary of file test2.fastq: \r\n",
      "INFO  @ Mon, 19 Sep 2016 16:12:29: giniindex\t0.493091731025 \r\n",
      "INFO  @ Mon, 19 Sep 2016 16:12:29: totalsgrnas\t2550 \r\n",
      "INFO  @ Mon, 19 Sep 2016 16:12:29: mappedreads\t1471 \r\n",
      "INFO  @ Mon, 19 Sep 2016 16:12:29: reads\t2500 \r\n",
      "INFO  @ Mon, 19 Sep 2016 16:12:29: label\tCTRL \r\n",
      "INFO  @ Mon, 19 Sep 2016 16:12:29: zerosgrnas\t1199 \r\n",
      "INFO  @ Mon, 19 Sep 2016 16:12:29: Summary of file test1.fastq: \r\n",
      "INFO  @ Mon, 19 Sep 2016 16:12:29: giniindex\t0.526689993149 \r\n",
      "INFO  @ Mon, 19 Sep 2016 16:12:29: totalsgrnas\t2550 \r\n",
      "INFO  @ Mon, 19 Sep 2016 16:12:29: mappedreads\t1453 \r\n",
      "INFO  @ Mon, 19 Sep 2016 16:12:29: reads\t2500 \r\n",
      "INFO  @ Mon, 19 Sep 2016 16:12:29: label\tL1 \r\n",
      "INFO  @ Mon, 19 Sep 2016 16:12:29: zerosgrnas\t1276 \r\n",
      "INFO  @ Mon, 19 Sep 2016 16:12:29: Loading Rnw template file: /usr/local/lib/python2.7/dist-packages/mageck/fastq_template.Rnw. \r\n"
     ]
    }
   ],
   "source": [
    "docker run -v ${PWD}:/DATA -w /DATA  -i lucapinello/mageck mageck count \\\n",
    "-l library.txt -n demo2 --sample-label L1,CTRL  --fastq test1.fastq test2.fastq \n",
    "\n",
    "#If you are using Docker on Windows you need to specify the full path instead of ${PWD}"
   ]
  },
  {
   "cell_type": "markdown",
   "metadata": {},
   "source": [
    "This command create 3 important files demo2.countsummary.txt demo2.count.txt and demo2.count_normalized.txt"
   ]
  },
  {
   "cell_type": "code",
   "execution_count": 8,
   "metadata": {
    "collapsed": false
   },
   "outputs": [
    {
     "name": "stdout",
     "output_type": "stream",
     "text": [
      "File\tLabel\tReads\tMapped\tPercentage\tTotalsgRNAs\tZerocounts\tGiniIndex\r\n",
      "test2.fastq\tCTRL\t2500\t1471\t0.5884\t2550\t1199\t0.4931\r\n",
      "test1.fastq\tL1\t2500\t1453\t0.5812\t2550\t1276\t0.5267\r\n"
     ]
    }
   ],
   "source": [
    "head demo2.countsummary.txt"
   ]
  },
  {
   "cell_type": "code",
   "execution_count": 9,
   "metadata": {
    "collapsed": false,
    "scrolled": true
   },
   "outputs": [
    {
     "name": "stdout",
     "output_type": "stream",
     "text": [
      "sgRNA\tGene\tL1\tCTRL\r\n",
      "s_47005\tRGL2\t0\t1\r\n",
      "s_53\tAAK1\t0\t1\r\n",
      "s_13389\tCPO\t0\t1\r\n",
      "s_4389\tATP5J\t1\t1\r\n",
      "s_28143\tITM2C\t1\t0\r\n",
      "s_43695\tPPP2R5C\t1\t0\r\n",
      "s_24644\tHAAO\t0\t1\r\n",
      "s_44260\tPROKR1\t0\t2\r\n",
      "s_41507\tPGLYRP3\t1\t0\r\n"
     ]
    }
   ],
   "source": [
    "head demo2.count.txt"
   ]
  },
  {
   "cell_type": "code",
   "execution_count": 10,
   "metadata": {
    "collapsed": false
   },
   "outputs": [
    {
     "name": "stdout",
     "output_type": "stream",
     "text": [
      "sgRNA\tGene\tL1\tCTRL\r\n",
      "s_53\tAAK1\t0.0\t0.99388171312\r\n",
      "s_13389\tCPO\t0.0\t0.99388171312\r\n",
      "s_4389\tATP5J\t1.00619408121\t0.99388171312\r\n",
      "s_28143\tITM2C\t1.00619408121\t0.0\r\n",
      "s_43695\tPPP2R5C\t1.00619408121\t0.0\r\n",
      "s_24644\tHAAO\t0.0\t0.99388171312\r\n",
      "s_44260\tPROKR1\t0.0\t1.98776342624\r\n",
      "s_41507\tPGLYRP3\t1.00619408121\t0.0\r\n",
      "s_53109\tSOSTDC1\t0.0\t0.99388171312\r\n"
     ]
    }
   ],
   "source": [
    "head demo2.count_normalized.txt"
   ]
  },
  {
   "cell_type": "markdown",
   "metadata": {},
   "source": [
    "Now we can run the test command to find genes and sgRNAs that are significant between conditions"
   ]
  },
  {
   "cell_type": "code",
   "execution_count": 11,
   "metadata": {
    "collapsed": false
   },
   "outputs": [
    {
     "name": "stdout",
     "output_type": "stream",
     "text": [
      "INFO  @ Mon, 19 Sep 2016 16:12:32: Parameters: /usr/local/bin/mageck test -k demo2.count.txt -t L1 -c CTRL -n demo2 --pdf-report \r\n",
      "INFO  @ Mon, 19 Sep 2016 16:12:32: Welcome to MAGeCK. Command: test \r\n",
      "INFO  @ Mon, 19 Sep 2016 16:12:32: Loading count table from demo2.count.txt  \r\n",
      "INFO  @ Mon, 19 Sep 2016 16:12:32: Processing 1 lines.. \r\n",
      "INFO  @ Mon, 19 Sep 2016 16:12:32: Loaded 2550 records. \r\n",
      "INFO  @ Mon, 19 Sep 2016 16:12:32: Loading R template file: /usr/local/lib/python2.7/dist-packages/mageck/plot_template.RTemplate. \r\n",
      "INFO  @ Mon, 19 Sep 2016 16:12:32: Loading R template file: /usr/local/lib/python2.7/dist-packages/mageck/plot_template_indvgene.RTemplate. \r\n",
      "INFO  @ Mon, 19 Sep 2016 16:12:32: Loading Rnw template file: /usr/local/lib/python2.7/dist-packages/mageck/plot_template.Rnw. \r\n",
      "INFO  @ Mon, 19 Sep 2016 16:12:32: Treatment samples:L1 \r\n",
      "INFO  @ Mon, 19 Sep 2016 16:12:32: Control samples:CTRL \r\n",
      "WARNING @ Mon, 19 Sep 2016 16:12:32: Sample 1 has zero median count, so median normalization is not possible. Switch to total read count normalization. \r\n",
      "INFO  @ Mon, 19 Sep 2016 16:12:32: Final size factor: 0.99388171312 1.00619408121 \r\n",
      "INFO  @ Mon, 19 Sep 2016 16:12:32: Running command: RRA -i demo2.plow.txt -o demo2.gene.low.txt -p 0.05 \r\n",
      "INFO  @ Mon, 19 Sep 2016 16:12:33: Command message: \r\n",
      "INFO  @ Mon, 19 Sep 2016 16:12:33:   Reading input file... \r\n",
      "INFO  @ Mon, 19 Sep 2016 16:12:33:   Summary: 2550 sgRNAs, 2356 genes, 1 lists; skipped sgRNAs:0 \r\n",
      "INFO  @ Mon, 19 Sep 2016 16:12:33:   Computing lo-values for each group... \r\n",
      "INFO  @ Mon, 19 Sep 2016 16:12:33:   Computing false discovery rate... \r\n",
      "INFO  @ Mon, 19 Sep 2016 16:12:33:   Number of groups under permutation and FDR adjustment: 2356 \r\n",
      "INFO  @ Mon, 19 Sep 2016 16:12:33:   Saving to output file...RRA completed. \r\n",
      "INFO  @ Mon, 19 Sep 2016 16:12:33:    \r\n",
      "INFO  @ Mon, 19 Sep 2016 16:12:33: End command message. \r\n",
      "INFO  @ Mon, 19 Sep 2016 16:12:33: Running command: RRA -i demo2.phigh.txt -o demo2.gene.high.txt -p 0.0101960784314 \r\n",
      "INFO  @ Mon, 19 Sep 2016 16:12:33: Command message: \r\n",
      "INFO  @ Mon, 19 Sep 2016 16:12:33:   Reading input file... \r\n",
      "INFO  @ Mon, 19 Sep 2016 16:12:33:   Summary: 2550 sgRNAs, 2356 genes, 1 lists; skipped sgRNAs:0 \r\n",
      "INFO  @ Mon, 19 Sep 2016 16:12:33:   Computing lo-values for each group... \r\n",
      "INFO  @ Mon, 19 Sep 2016 16:12:33:   Computing false discovery rate... \r\n",
      "INFO  @ Mon, 19 Sep 2016 16:12:33:   Number of groups under permutation and FDR adjustment: 2356 \r\n",
      "INFO  @ Mon, 19 Sep 2016 16:12:33:   Saving to output file...RRA completed. \r\n",
      "INFO  @ Mon, 19 Sep 2016 16:12:33:    \r\n",
      "INFO  @ Mon, 19 Sep 2016 16:12:33: End command message. \r\n",
      "INFO  @ Mon, 19 Sep 2016 16:12:33: Loading top 10 genes from demo2.gene.low.txt: SIRPB1,JMJD1C,GRP,ZNF200,SORBS1,ING4,S100B,HIPK4,CCDC120,LMX1A \r\n",
      "INFO  @ Mon, 19 Sep 2016 16:12:33: Loading top 10 genes from demo2.gene.high.txt: TRA2B,RUFY3,ST8SIA4,TMPRSS11E,FABP3,PPAP2C,NEURL4,DDX3Y,TNFSF12,TTLL6 \r\n",
      "INFO  @ Mon, 19 Sep 2016 16:12:33: Running command: rm demo2.plow.txt \r\n",
      "INFO  @ Mon, 19 Sep 2016 16:12:33: Running command: rm demo2.phigh.txt \r\n",
      "INFO  @ Mon, 19 Sep 2016 16:12:33: Running command: rm demo2.gene.low.txt \r\n",
      "INFO  @ Mon, 19 Sep 2016 16:12:33: Running command: rm demo2.gene.high.txt \r\n",
      "INFO  @ Mon, 19 Sep 2016 16:12:33: Running command: cd ./; Rscript demo2.R \r\n",
      "INFO  @ Mon, 19 Sep 2016 16:12:36: Command message: \r\n",
      "INFO  @ Mon, 19 Sep 2016 16:12:36:   null device  \r\n",
      "INFO  @ Mon, 19 Sep 2016 16:12:36:             1  \r\n",
      "INFO  @ Mon, 19 Sep 2016 16:12:36:   Writing to file demo2_summary.tex \r\n",
      "INFO  @ Mon, 19 Sep 2016 16:12:36:   Processing code chunks with options ... \r\n",
      "INFO  @ Mon, 19 Sep 2016 16:12:36:    1 : keep.source term verbatim (label = funcdef, demo2_summary.Rnw:27) \r\n",
      "INFO  @ Mon, 19 Sep 2016 16:12:36:    2 : keep.source term tex (label = tab1, demo2_summary.Rnw:37) \r\n",
      "INFO  @ Mon, 19 Sep 2016 16:12:36:    3 : keep.source term verbatim (demo2_summary.Rnw:77) \r\n",
      "INFO  @ Mon, 19 Sep 2016 16:12:36:    4 : keep.source term verbatim pdf  (demo2_summary.Rnw:83) \r\n",
      "INFO  @ Mon, 19 Sep 2016 16:12:36:    5 : keep.source term verbatim pdf  (demo2_summary.Rnw:201) \r\n",
      "INFO  @ Mon, 19 Sep 2016 16:12:36:    6 : keep.source term verbatim pdf  (demo2_summary.Rnw:345) \r\n",
      "INFO  @ Mon, 19 Sep 2016 16:12:36:    7 : keep.source term verbatim pdf  (demo2_summary.Rnw:489) \r\n",
      "INFO  @ Mon, 19 Sep 2016 16:12:36:    8 : keep.source term verbatim (demo2_summary.Rnw:567) \r\n",
      "INFO  @ Mon, 19 Sep 2016 16:12:36:    9 : keep.source term verbatim pdf  (demo2_summary.Rnw:573) \r\n",
      "INFO  @ Mon, 19 Sep 2016 16:12:36:   10 : keep.source term verbatim pdf  (demo2_summary.Rnw:691) \r\n",
      "INFO  @ Mon, 19 Sep 2016 16:12:36:   11 : keep.source term verbatim pdf  (demo2_summary.Rnw:835) \r\n",
      "INFO  @ Mon, 19 Sep 2016 16:12:36:   12 : keep.source term verbatim pdf  (demo2_summary.Rnw:979) \r\n",
      "INFO  @ Mon, 19 Sep 2016 16:12:36:    \r\n",
      "INFO  @ Mon, 19 Sep 2016 16:12:36:   You can now run (pdf)latex on 'demo2_summary.tex' \r\n",
      "INFO  @ Mon, 19 Sep 2016 16:12:36:    \r\n",
      "INFO  @ Mon, 19 Sep 2016 16:12:36: End command message. \r\n",
      "INFO  @ Mon, 19 Sep 2016 16:12:36: Running command: cd ./; rm -rf demo2_summary-*.pdf \r\n",
      "INFO  @ Mon, 19 Sep 2016 16:12:36: Command message: \r\n",
      "INFO  @ Mon, 19 Sep 2016 16:12:36:    \r\n",
      "INFO  @ Mon, 19 Sep 2016 16:12:36: End command message. \r\n",
      "INFO  @ Mon, 19 Sep 2016 16:12:36: Running command: cd ./; rm -rf demo2_summary.aux \r\n",
      "INFO  @ Mon, 19 Sep 2016 16:12:36: Command message: \r\n",
      "INFO  @ Mon, 19 Sep 2016 16:12:36:    \r\n",
      "INFO  @ Mon, 19 Sep 2016 16:12:36: End command message. \r\n",
      "INFO  @ Mon, 19 Sep 2016 16:12:36: Running command: cd ./; rm -rf demo2_summary.tex \r\n",
      "INFO  @ Mon, 19 Sep 2016 16:12:36: Command message: \r\n",
      "INFO  @ Mon, 19 Sep 2016 16:12:36:    \r\n",
      "INFO  @ Mon, 19 Sep 2016 16:12:36: End command message. \r\n",
      "INFO  @ Mon, 19 Sep 2016 16:12:36: Running command: cd ./; rm -rf demo2_summary.toc \r\n",
      "INFO  @ Mon, 19 Sep 2016 16:12:36: Command message: \r\n",
      "INFO  @ Mon, 19 Sep 2016 16:12:36:    \r\n",
      "INFO  @ Mon, 19 Sep 2016 16:12:36: End command message. \r\n"
     ]
    }
   ],
   "source": [
    "docker run -v ${PWD}:/DATA -w /DATA  -i lucapinello/mageck mageck test \\\n",
    "-k demo2.count.txt -t L1 -c CTRL -n demo2 --pdf-report\n",
    "\n",
    "#If you are using Docker on Windows you need to specify the full path instead of ${PWD}"
   ]
  },
  {
   "cell_type": "markdown",
   "metadata": {
    "collapsed": true
   },
   "source": [
    "Here you can see we used a new option: --pdf-report. \n",
    "\n",
    "This option enable the generation of nice and useful graphical reports "
   ]
  },
  {
   "cell_type": "code",
   "execution_count": 12,
   "metadata": {
    "collapsed": false
   },
   "outputs": [
    {
     "name": "stdout",
     "output_type": "stream",
     "text": [
      "demo2.pdf\t\tdemo2_summary.pdf\r\n"
     ]
    }
   ],
   "source": [
    "ls *.pdf"
   ]
  },
  {
   "cell_type": "markdown",
   "metadata": {
    "collapsed": true
   },
   "source": [
    "Open and explore the pdf files: demo2_summary.pdf and demo2.pdf "
   ]
  }
 ],
 "metadata": {
  "kernelspec": {
   "display_name": "Bash",
   "language": "bash",
   "name": "bash"
  },
  "language_info": {
   "codemirror_mode": "shell",
   "file_extension": ".sh",
   "mimetype": "text/x-sh",
   "name": "bash"
  }
 },
 "nbformat": 4,
 "nbformat_minor": 0
}
