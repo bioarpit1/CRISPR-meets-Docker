{
 "cells": [
  {
   "cell_type": "markdown",
   "metadata": {},
   "source": [
    "# CRISPResso Demo"
   ]
  },
  {
   "cell_type": "markdown",
   "metadata": {},
   "source": [
    "In this example we run CRISPResso on a single region with those parameters:\n",
    "\n",
    "- sgRNA  (note that we specify the guide without the PAM sequence)\n",
    "- Sequence of the unmodified amplicom\n",
    "- Two fastq files for the paired end experiments: reads1.fastq.gz and reads1.fastq.gz\n",
    "- we specify a window around the cutsite of 5bp\n",
    "- we want to add the suffix DEMO to the output folder\n",
    "\n"
   ]
  },
  {
   "cell_type": "markdown",
   "metadata": {},
   "source": [
    "### Go to the folder with the demo for CRISPResso: CRISPR_Workshop/Example2_CRISPResso"
   ]
  },
  {
   "cell_type": "code",
   "execution_count": 1,
   "metadata": {
    "collapsed": false
   },
   "outputs": [
    {
     "name": "stdout",
     "output_type": "stream",
     "text": []
    }
   ],
   "source": [
    "cd /Users/luca/Downloads/CRISPR_Workshop/Example2_CRISPResso"
   ]
  },
  {
   "cell_type": "code",
   "execution_count": 2,
   "metadata": {
    "collapsed": false
   },
   "outputs": [
    {
     "name": "stdout",
     "output_type": "stream",
     "text": [
      "CRISPResso_demo.ipynb\treads1.fastq.gz\t\treads2.fastq.gz\r\n"
     ]
    }
   ],
   "source": [
    "#You should see those files\n",
    "ls"
   ]
  },
  {
   "cell_type": "markdown",
   "metadata": {},
   "source": [
    "### Now we run crispresso using the docker image with the following command\n"
   ]
  },
  {
   "cell_type": "code",
   "execution_count": 3,
   "metadata": {
    "collapsed": false
   },
   "outputs": [
    {
     "name": "stdout",
     "output_type": "stream",
     "text": [
      "/opt/conda/lib/python2.7/site-packages/matplotlib/font_manager.py:273: UserWarning: Matplotlib is building the font cache using fc-list. This may take a moment.\r\n",
      "  warnings.warn('Matplotlib is building the font cache using fc-list. This may take a moment.')\r\n",
      "INFO  @ Sun, 18 Sep 2016 16:04:11:\r\n",
      "\t Cut Points from guide seq:[76] \r\n",
      "\r\n",
      "INFO  @ Sun, 18 Sep 2016 16:04:11:\r\n",
      "\t Creating Folder CRISPResso_on_DEMO \r\n",
      "\r\n",
      "INFO  @ Sun, 18 Sep 2016 16:04:11:\r\n",
      "\t Done! \r\n",
      "\r\n",
      "INFO  @ Sun, 18 Sep 2016 16:04:11:\r\n",
      "\t Estimating average read length... \r\n",
      "\r\n",
      "INFO  @ Sun, 18 Sep 2016 16:04:11:\r\n",
      "\t Merging paired sequences with Flash... \r\n",
      "\r\n",
      "INFO  @ Sun, 18 Sep 2016 16:04:11:\r\n",
      "\t Done! \r\n",
      "\r\n",
      "INFO  @ Sun, 18 Sep 2016 16:04:11:\r\n",
      "\t Preparing files for the alignment... \r\n",
      "\r\n",
      "INFO  @ Sun, 18 Sep 2016 16:04:11:\r\n",
      "\t Done! \r\n",
      "\r\n",
      "INFO  @ Sun, 18 Sep 2016 16:04:11:\r\n",
      "\t Aligning sequences... \r\n",
      "\r\n",
      "INFO  @ Sun, 18 Sep 2016 16:04:14:\r\n",
      "\t Align sequences to reverse complement of the amplicon... \r\n",
      "\r\n",
      "INFO  @ Sun, 18 Sep 2016 16:04:14:\r\n",
      "\t Done! \r\n",
      "\r\n",
      "INFO  @ Sun, 18 Sep 2016 16:04:14:\r\n",
      "\t Quantifying indels/substitutions... \r\n",
      "\r\n",
      "INFO  @ Sun, 18 Sep 2016 16:04:32:\r\n",
      "\t Done! \r\n",
      "\r\n",
      "INFO  @ Sun, 18 Sep 2016 16:04:32:\r\n",
      "\t Calculating indel distribution based on the length of the reads... \r\n",
      "\r\n",
      "INFO  @ Sun, 18 Sep 2016 16:04:32:\r\n",
      "\t Done! \r\n",
      "\r\n",
      "INFO  @ Sun, 18 Sep 2016 16:04:32:\r\n",
      "\t Calculating alleles frequencies... \r\n",
      "\r\n",
      "INFO  @ Sun, 18 Sep 2016 16:04:32:\r\n",
      "\t Done! \r\n",
      "\r\n",
      "INFO  @ Sun, 18 Sep 2016 16:04:32:\r\n",
      "\t Making Plots... \r\n",
      "\r\n",
      "INFO  @ Sun, 18 Sep 2016 16:04:41:\r\n",
      "\t Done! \r\n",
      "\r\n",
      "INFO  @ Sun, 18 Sep 2016 16:04:41:\r\n",
      "\t Removing Intermediate files... \r\n",
      "\r\n",
      "INFO  @ Sun, 18 Sep 2016 16:04:41:\r\n",
      "\t Saving processed data... \r\n",
      "\r\n",
      "INFO  @ Sun, 18 Sep 2016 16:04:41:\r\n",
      "\t All Done! \r\n",
      "\r\n",
      "  \r\n",
      "~~~CRISPResso~~~\r\n",
      "-Analysis of CRISPR/Cas9 outcomes from deep sequencing data-\r\n",
      "     \r\n",
      "                      )             \r\n",
      "                     (              \r\n",
      "                    __)__           \r\n",
      "                 C\\|     \\          \r\n",
      "                   \\     /          \r\n",
      "                    \\___/\r\n",
      "             \r\n",
      "\r\n",
      "[Luca Pinello 2015, send bugs, suggestions or *green coffee* to lucapinello AT gmail DOT com]\r\n",
      "\r\n",
      "Version 1.0.0\r\n",
      "\r\n",
      "     \r\n",
      "                      )             \r\n",
      "                     (              \r\n",
      "                    __)__           \r\n",
      "                 C\\|     \\          \r\n",
      "                   \\     /          \r\n",
      "                    \\___/\r\n",
      "             \r\n"
     ]
    }
   ],
   "source": [
    "docker run -v ${PWD}:/DATA -w /DATA  -i lucapinello/crispresso \\\n",
    "CRISPResso -r1 reads1.fastq.gz -r2 reads2.fastq.gz \\\n",
    "-a AATGTCCCCCAATGGGAAGTTCATCTGGCACTGCCCACAGGTGAGGAGGTCATGATCCCCTTCTGGA\\\n",
    "GCTCCCAACGGGCCGTGGTCTGGTTCATCATCTGTAAGAATGGCTTCAAGAGGCTCGGCTGTGGTT \\\n",
    "-g TGAACCAGACCACGGCCCGT -w 5 --name DEMO --save_also_png \n"
   ]
  },
  {
   "cell_type": "markdown",
   "metadata": {
    "collapsed": false
   },
   "source": [
    "### If you are using Docker on Windows you need to specify the full path :("
   ]
  },
  {
   "cell_type": "code",
   "execution_count": 4,
   "metadata": {
    "collapsed": false
   },
   "outputs": [
    {
     "name": "stdout",
     "output_type": "stream",
     "text": [
      "/opt/conda/lib/python2.7/site-packages/matplotlib/font_manager.py:273: UserWarning: Matplotlib is building the font cache using fc-list. This may take a moment.\r\n",
      "  warnings.warn('Matplotlib is building the font cache using fc-list. This may take a moment.')\r\n",
      "INFO  @ Sun, 18 Sep 2016 16:04:45:\r\n",
      "\t Cut Points from guide seq:[76] \r\n",
      "\r\n",
      "WARNING @ Sun, 18 Sep 2016 16:04:45:\r\n",
      "\t Folder CRISPResso_on_DEMO already exists. \r\n",
      "\r\n",
      "INFO  @ Sun, 18 Sep 2016 16:04:45:\r\n",
      "\t Estimating average read length... \r\n",
      "\r\n",
      "INFO  @ Sun, 18 Sep 2016 16:04:45:\r\n",
      "\t Merging paired sequences with Flash... \r\n",
      "\r\n",
      "INFO  @ Sun, 18 Sep 2016 16:04:45:\r\n",
      "\t Done! \r\n",
      "\r\n",
      "INFO  @ Sun, 18 Sep 2016 16:04:45:\r\n",
      "\t Preparing files for the alignment... \r\n",
      "\r\n",
      "INFO  @ Sun, 18 Sep 2016 16:04:45:\r\n",
      "\t Done! \r\n",
      "\r\n",
      "INFO  @ Sun, 18 Sep 2016 16:04:45:\r\n",
      "\t Aligning sequences... \r\n",
      "\r\n",
      "INFO  @ Sun, 18 Sep 2016 16:04:48:\r\n",
      "\t Align sequences to reverse complement of the amplicon... \r\n",
      "\r\n",
      "INFO  @ Sun, 18 Sep 2016 16:04:48:\r\n",
      "\t Done! \r\n",
      "\r\n",
      "INFO  @ Sun, 18 Sep 2016 16:04:48:\r\n",
      "\t Quantifying indels/substitutions... \r\n",
      "\r\n",
      "INFO  @ Sun, 18 Sep 2016 16:05:06:\r\n",
      "\t Done! \r\n",
      "\r\n",
      "INFO  @ Sun, 18 Sep 2016 16:05:06:\r\n",
      "\t Calculating indel distribution based on the length of the reads... \r\n",
      "\r\n",
      "INFO  @ Sun, 18 Sep 2016 16:05:06:\r\n",
      "\t Done! \r\n",
      "\r\n",
      "INFO  @ Sun, 18 Sep 2016 16:05:06:\r\n",
      "\t Calculating alleles frequencies... \r\n",
      "\r\n",
      "INFO  @ Sun, 18 Sep 2016 16:05:06:\r\n",
      "\t Done! \r\n",
      "\r\n",
      "INFO  @ Sun, 18 Sep 2016 16:05:06:\r\n",
      "\t Making Plots... \r\n",
      "\r\n",
      "INFO  @ Sun, 18 Sep 2016 16:05:15:\r\n",
      "\t Done! \r\n",
      "\r\n",
      "INFO  @ Sun, 18 Sep 2016 16:05:15:\r\n",
      "\t Removing Intermediate files... \r\n",
      "\r\n",
      "INFO  @ Sun, 18 Sep 2016 16:05:15:\r\n",
      "\t Saving processed data... \r\n",
      "\r\n",
      "INFO  @ Sun, 18 Sep 2016 16:05:15:\r\n",
      "\t All Done! \r\n",
      "\r\n",
      "  \r\n",
      "~~~CRISPResso~~~\r\n",
      "-Analysis of CRISPR/Cas9 outcomes from deep sequencing data-\r\n",
      "     \r\n",
      "                      )             \r\n",
      "                     (              \r\n",
      "                    __)__           \r\n",
      "                 C\\|     \\          \r\n",
      "                   \\     /          \r\n",
      "                    \\___/\r\n",
      "             \r\n",
      "\r\n",
      "[Luca Pinello 2015, send bugs, suggestions or *green coffee* to lucapinello AT gmail DOT com]\r\n",
      "\r\n",
      "Version 1.0.0\r\n",
      "\r\n",
      "     \r\n",
      "                      )             \r\n",
      "                     (              \r\n",
      "                    __)__           \r\n",
      "                 C\\|     \\          \r\n",
      "                   \\     /          \r\n",
      "                    \\___/\r\n",
      "             \r\n"
     ]
    }
   ],
   "source": [
    "docker run -v /Users/luca/Downloads/CRISPR_Workshop/Example2_CRISPResso:/DATA -w /DATA  -i lucapinello/crispresso \\\n",
    "CRISPResso -r1 reads1.fastq.gz -r2 reads2.fastq.gz \\\n",
    "-a AATGTCCCCCAATGGGAAGTTCATCTGGCACTGCCCACAGGTGAGGAGGTCATGATCCCCTTCTGGA\\\n",
    "GCTCCCAACGGGCCGTGGTCTGGTTCATCATCTGTAAGAATGGCTTCAAGAGGCTCGGCTGTGGTT \\\n",
    "-g TGAACCAGACCACGGCCCGT -w 5 --name DEMO --save_also_png \n",
    "\n"
   ]
  },
  {
   "cell_type": "markdown",
   "metadata": {
    "collapsed": true
   },
   "source": [
    "### If everything is fine you should see all the analysis files in the folder CRISPResso_on_DEMO"
   ]
  },
  {
   "cell_type": "code",
   "execution_count": 5,
   "metadata": {
    "collapsed": false
   },
   "outputs": [
    {
     "name": "stdout",
     "output_type": "stream",
     "text": [
      "1a.Indel_size_distribution_n_sequences.pdf\r\n",
      "1a.Indel_size_distribution_n_sequences.png\r\n",
      "1b.Indel_size_distribution_percentage.pdf\r\n",
      "1b.Indel_size_distribution_percentage.png\r\n",
      "2.Unmodified_NHEJ_pie_chart.pdf\r\n",
      "2.Unmodified_NHEJ_pie_chart.png\r\n",
      "3.Insertion_Deletion_Substitutions_size_hist.pdf\r\n",
      "3.Insertion_Deletion_Substitutions_size_hist.png\r\n",
      "4a.Combined_Insertion_Deletion_Substitution_Locations.pdf\r\n",
      "4a.Combined_Insertion_Deletion_Substitution_Locations.png\r\n",
      "4b.Insertion_Deletion_Substitution_Locations_NHEJ.pdf\r\n",
      "4b.Insertion_Deletion_Substitution_Locations_NHEJ.png\r\n",
      "4e.Position_dependent_average_indel_size.pdf\r\n",
      "4e.Position_dependent_average_indel_size.png\r\n",
      "Alleles_frequency_table.txt\r\n",
      "CRISPResso_RUNNING_LOG.txt\r\n",
      "Mapping_statistics.txt\r\n",
      "Quantification_of_editing_frequency.txt\r\n",
      "cut_points.pickle\r\n",
      "deletion_histogram.txt\r\n",
      "effect_vector_combined.txt\r\n",
      "effect_vector_deletion_NHEJ.txt\r\n",
      "effect_vector_insertion_NHEJ.txt\r\n",
      "effect_vector_substitution_NHEJ.txt\r\n",
      "indel_histogram.txt\r\n",
      "insertion_histogram.txt\r\n",
      "position_dependent_vector_avg_deletion_size.txt\r\n",
      "position_dependent_vector_avg_insertion_size.txt\r\n",
      "sgRNA_intervals.pickle\r\n",
      "substitution_histogram.txt\r\n"
     ]
    }
   ],
   "source": [
    "ls CRISPResso_on_DEMO"
   ]
  },
  {
   "cell_type": "markdown",
   "metadata": {},
   "source": [
    "### Let's explore the graphical report"
   ]
  },
  {
   "cell_type": "markdown",
   "metadata": {
    "collapsed": false
   },
   "source": [
    "![title](CRISPResso_on_DEMO/1a.Indel_size_distribution_n_sequences.png )"
   ]
  },
  {
   "cell_type": "markdown",
   "metadata": {},
   "source": [
    "![title](CRISPResso_on_DEMO/1b.Indel_size_distribution_percentage.png)\n"
   ]
  },
  {
   "cell_type": "markdown",
   "metadata": {},
   "source": [
    "![title](CRISPResso_on_DEMO/2.Unmodified_NHEJ_pie_chart.png)\n"
   ]
  },
  {
   "cell_type": "markdown",
   "metadata": {},
   "source": [
    "![title](CRISPResso_on_DEMO/3.Insertion_Deletion_Substitutions_size_hist.png)\n"
   ]
  },
  {
   "cell_type": "markdown",
   "metadata": {},
   "source": [
    "![title](CRISPResso_on_DEMO/4a.Combined_Insertion_Deletion_Substitution_Locations.png)\n"
   ]
  },
  {
   "cell_type": "markdown",
   "metadata": {},
   "source": [
    "![title](CRISPResso_on_DEMO/4b.Insertion_Deletion_Substitution_Locations_NHEJ.png)\n"
   ]
  },
  {
   "cell_type": "markdown",
   "metadata": {},
   "source": [
    "![title](CRISPResso_on_DEMO/4e.Position_dependent_average_indel_size.png)"
   ]
  },
  {
   "cell_type": "markdown",
   "metadata": {},
   "source": [
    "### Finally let's take a look to the first lines of the allelic frequency table"
   ]
  },
  {
   "cell_type": "code",
   "execution_count": 6,
   "metadata": {
    "collapsed": false
   },
   "outputs": [
    {
     "name": "stdout",
     "output_type": "stream",
     "text": [
      "Aligned_Sequence\tNHEJ\tUNMODIFIED\tHDR\tn_deleted\tn_inserted\tn_mutated\t#Reads\t%Reads\r\n",
      "AATGTCCCCCAATGGGAAGTTCATCTGGCACTGCCCACAGGTGAGGAGGTCATGATCCCCTTCTGGAGCTCCCAACGGGCCGTGGTCTGGTTCATCATCTGTAAGAATGGCTTCAAGAGGCTCGGCTGTGGTT\tFalse\tTrue\tFalse\t0.0\t0.0\t0\t2621\t22.3006891857\r\n",
      "AATGTCCCCCAATGGGAAGTTCATCTGGCACTGCCCACAGGTGAGGAGGTCATGATCCCCTTCTGGAGCTCCCAA-----CGTGGTCTGGTTCATCATCTGTAAGAATGGCTTCAAGAGGCTCGGCTGTGGTT\tTrue\tFalse\tFalse\t5.0\t0.0\t0\t2132\t18.1400493491\r\n",
      "AATGTCCCCCAATGGGAAGTTCATCTGGCACTGCCCACAGGTGAGGAGGTCATGATCCCCTTCTGGAGCTCCCAACGGGGCCGTGGTCTGGTTCATCATCTGTAAGAATGGCTTCAAGAGGCTCGGCTGTGGTT\tTrue\tFalse\tFalse\t0.0\t1.0\t0\t631\t5.36884199779\r\n",
      "AATGTCCCCCAATGGGAAGTTCATCTGGCACTGCCCACAGGTGAGGAGGTCATGATCCCCTTCTGGAGCTCCCAAC-GGCCGTGGTCTGGTTCATCATCTGTAAGAATGGCTTCAAGAGGCTCGGCTGTGGTT\tTrue\tFalse\tFalse\t1.0\t0.0\t0\t511\t4.34782608696\r\n",
      "AATGTCCCCCAATGGGAAGTTCATCTGGCACTGCCCACAGGTGAGGAGGTCATGATCCCCTTCTGGAGCTCCCAA--GGCCGTGGTCTGGTTCATCATCTGTAAGAATGGCTTCAAGAGGCTCGGCTGTGGTT\tTrue\tFalse\tFalse\t2.0\t0.0\t0\t275\t2.33982812899\r\n",
      "AATGTCCCCCAATGGGAAGTTCATCTGGCACTGCCCACAGGTGAGGAGGTCATGATCCCCTTCTGGA-----------GCCGTGGTCTGGTTCATCATCTGTAAGAATGGCTTCAAGAGGCTCGGCTGTGGTT\tTrue\tFalse\tFalse\t11.0\t0.0\t0\t269\t2.28877733345\r\n",
      "AATGTCCCCCAATGGGAAGTTCATCTGGCACTGCCCACAGGTGAGGAGGTCATGATCCCCT------------------------TCTGGTTCATCATCTGTAAGAATGGCTTCAAGAGGCTCGGCTGTGGTT\tTrue\tFalse\tFalse\t24.0\t0.0\t0\t171\t1.45494767293\r\n",
      "AATGTCCCCCAATGGGAAGTTCATCTGGCACTGCCCACAGGTGAGGAGGTCATGATCCCCTTCTGGAGCTC--------CCGTGGTCTGGTTCATCATCTGTAAGAATGGCTTCAAGAGGCTCGGCTGTGGTT\tTrue\tFalse\tFalse\t8.0\t0.0\t0\t155\t1.31881221816\r\n",
      "AATGTCCCCCAATGGGAAGTTCATCTGGCACTGCCCACAGGTGAGGAGGTCATGATCCCCTTCTGGAGCT---------CCGTGGTCTGGTTCATCATCTGTAAGAATGGCTTCAAGAGGCTCGGCTGTGGTT\tTrue\tFalse\tFalse\t9.0\t0.0\t0\t120\t1.02101591083\r\n"
     ]
    }
   ],
   "source": [
    "head CRISPResso_on_DEMO/Alleles_frequency_table.txt"
   ]
  },
  {
   "cell_type": "code",
   "execution_count": null,
   "metadata": {
    "collapsed": true
   },
   "outputs": [],
   "source": []
  }
 ],
 "metadata": {
  "kernelspec": {
   "display_name": "Bash",
   "language": "bash",
   "name": "bash"
  },
  "language_info": {
   "codemirror_mode": "shell",
   "file_extension": ".sh",
   "mimetype": "text/x-sh",
   "name": "bash"
  }
 },
 "nbformat": 4,
 "nbformat_minor": 0
}
